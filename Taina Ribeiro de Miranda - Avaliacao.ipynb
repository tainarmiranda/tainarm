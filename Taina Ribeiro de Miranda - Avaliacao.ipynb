{
 "cells": [
  {
   "cell_type": "markdown",
   "metadata": {},
   "source": [
    "# Avaliação 2019 - Infraestrutura de Processamento e Armazenamento de dados"
   ]
  },
  {
   "cell_type": "markdown",
   "metadata": {},
   "source": [
    "### I. Baixar dados do Bolsa Família de Janeiro (2019) em http://www.portaltransparencia.gov.br/download-de-dados/bolsa-familia-pagamentos \n",
    "\n",
    "### II. Processar as análises abaixo usando PySpark:\n",
    "\n",
    "*DICA: option(\"encoding\", \"ISO-8859-1\")*\n",
    "\n",
    "    1. Calcular o total pago ao Bolsa Família\n",
    "\n",
    "    2. Calcular o total pago ao Bolsa Família agrupado pelo mês de referência do dado (informação disponível no arquivo baixado)\n",
    "\n",
    "### III. Realizar a análise abaixo usando Pandas:\n",
    "\n",
    "*DICA: encoding='latin-1' na leitura do arquivo*\n",
    "\n",
    "    1. Calcular o total pago ao Bolsa Família\n",
    "\n",
    "    2. Calcular o total pago ao Bolsa Família agrupado pelo mês de referência do dado (informação disponível no arquivo baixado)\n",
    "    \n",
    "    3. Comparar os tempos de leitura usando PySpark x Pandas justificando a diferença de processamento feita por cada um\n",
    "    \n",
    "### IV. Bônus:\n",
    "\n",
    "*DICA: alterar a codificação para UTF-8 no Bloco de Notas*\n",
    "\n",
    "    1. Ingestar o dado no Google Cloud Storage (GCS)\n",
    "    \n",
    "    2. Criar uma tabela externa no Bigquery para o dado no GCS\n",
    "    \n",
    "    3. Calcular o total pago ao Bolsa Família via query SQL no Bigquery"
   ]
  },
  {
   "cell_type": "markdown",
   "metadata": {},
   "source": [
    "## Dicas:"
   ]
  },
  {
   "cell_type": "code",
   "execution_count": null,
   "metadata": {},
   "outputs": [],
   "source": [
    "# coding: utf-8\n",
    "#!/usr/bin/env python\n",
    "\n",
    "from pyspark.sql import SparkSession\n",
    "from pyspark.sql import functions as F\n",
    "\n",
    "import pandas as pd"
   ]
  },
  {
   "cell_type": "code",
   "execution_count": null,
   "metadata": {},
   "outputs": [],
   "source": [
    "%%time\n",
    "%%time\n",
    "spark = SparkSession\\\n",
    "        .builder\\\n",
    "        .appName(\"Avaliacao\")\\\n",
    "        .getOrCreate()"
   ]
  },
  {
   "cell_type": "markdown",
   "metadata": {},
   "source": [
    "## Quem tiver dificuldades pode me enviar por e-mail ou agendar um horário para falarmos remotamente. Importante enviar o arquivo da avaliação (.ipynb)\n",
    "\n",
    "priscillalusie.pos@souunisuam.com.br"
   ]
  },
  {
   "cell_type": "code",
   "execution_count": null,
   "metadata": {},
   "outputs": [],
   "source": []
  }
 ],
 "metadata": {
  "kernelspec": {
   "display_name": "Python 3",
   "language": "python",
   "name": "python3"
  },
  "language_info": {
   "codemirror_mode": {
    "name": "ipython",
    "version": 3
   },
   "file_extension": ".py",
   "mimetype": "text/x-python",
   "name": "python",
   "nbconvert_exporter": "python",
   "pygments_lexer": "ipython3",
   "version": "3.7.3"
  }
 },
 "nbformat": 4,
 "nbformat_minor": 2
}
